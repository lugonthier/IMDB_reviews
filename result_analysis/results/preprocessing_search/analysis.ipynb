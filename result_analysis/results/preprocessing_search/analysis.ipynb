{
 "cells": [
  {
   "cell_type": "code",
   "execution_count": 50,
   "metadata": {},
   "outputs": [],
   "source": [
    "import pandas as pd\n",
    "import dataframe_image as dfi\n",
    "import matplotlib.pyplot as plt #3.4\n",
    "import seaborn as sns\n",
    "colors = sns.color_palette(\"tab10\")\n",
    "sns.set_theme()\n",
    "import re"
   ]
  },
  {
   "cell_type": "code",
   "execution_count": 51,
   "metadata": {},
   "outputs": [],
   "source": [
    "stemmer_df = pd.read_csv('data_results/porter_stemmer.csv')\n",
    "lemmatizer_df = pd.read_csv('data_results/word_net_lem.csv')"
   ]
  },
  {
   "cell_type": "code",
   "execution_count": 52,
   "metadata": {},
   "outputs": [],
   "source": [
    "metrics = ['fit_time_mean', 'fit_time_std', 'predict_time_mean',\n",
    "       'predict_time_std', 'train_accuracy_score_mean',\n",
    "       'train_accuracy_score_std', 'train_f1_score_mean', 'train_f1_score_std',\n",
    "       'train_roc_auc_score_mean', 'train_roc_auc_score_std',\n",
    "       'valid_accuracy_score_mean', 'valid_accuracy_score_std',\n",
    "       'valid_f1_score_mean', 'valid_f1_score_std', 'valid_roc_auc_score_mean',\n",
    "       'valid_roc_auc_score_std', 'training_size']"
   ]
  },
  {
   "cell_type": "code",
   "execution_count": 53,
   "metadata": {},
   "outputs": [
    {
     "data": {
      "text/plain": "0    {'of', 'it', 'hasn', 'until', 'where', 'up', '...\n1    {'of', 'it', 'hasn', 'until', 'where', 'up', '...\n2    {'of', 'it', 'hasn', 'until', 'where', 'up', '...\n3    {'of', 'it', 'hasn', 'until', 'where', 'up', '...\n4    {'of', 'it', 'hasn', 'until', 'where', 'up', '...\n5    {'of', 'it', 'hasn', 'until', 'where', 'up', '...\nName: preprocessor__stopwords, dtype: object"
     },
     "execution_count": 53,
     "metadata": {},
     "output_type": "execute_result"
    }
   ],
   "source": [
    "lemmatizer_df.preprocessor__stopwords"
   ]
  },
  {
   "cell_type": "code",
   "execution_count": 54,
   "metadata": {},
   "outputs": [
    {
     "name": "stderr",
     "output_type": "stream",
     "text": [
      "/Users/gonthierlucas/opt/anaconda3/lib/python3.8/site-packages/pandas/core/generic.py:5168: SettingWithCopyWarning: \n",
      "A value is trying to be set on a copy of a slice from a DataFrame.\n",
      "Try using .loc[row_indexer,col_indexer] = value instead\n",
      "\n",
      "See the caveats in the documentation: https://pandas.pydata.org/pandas-docs/stable/user_guide/indexing.html#returning-a-view-versus-a-copy\n",
      "  self[name] = value\n"
     ]
    }
   ],
   "source": [
    "result_stemmer = stemmer_df[['model'] + metrics]\n",
    "result_stemmer.model = result_stemmer.model.apply(lambda text: re.sub(r'\\([^)]*\\)', '', text.lower()).replace('classifier',''))\n",
    "\n",
    "result_lemmatizer = lemmatizer_df[['model'] + metrics]\n",
    "result_lemmatizer.model = result_lemmatizer.model.apply(lambda text: re.sub(r'\\([^)]*\\)', '', text.lower()).replace('classifier',''))\n"
   ]
  },
  {
   "cell_type": "code",
   "execution_count": 55,
   "metadata": {},
   "outputs": [
    {
     "data": {
      "text/html": "<div>\n<style scoped>\n    .dataframe tbody tr th:only-of-type {\n        vertical-align: middle;\n    }\n\n    .dataframe tbody tr th {\n        vertical-align: top;\n    }\n\n    .dataframe thead th {\n        text-align: right;\n    }\n</style>\n<table border=\"1\" class=\"dataframe\">\n  <thead>\n    <tr style=\"text-align: right;\">\n      <th></th>\n      <th>model</th>\n      <th>train accuracy</th>\n      <th>validation accuracy</th>\n    </tr>\n  </thead>\n  <tbody>\n    <tr>\n      <th>0</th>\n      <td>mlp</td>\n      <td>1.0000</td>\n      <td>0.8764</td>\n    </tr>\n    <tr>\n      <th>1</th>\n      <td>linearsvc</td>\n      <td>0.9877</td>\n      <td>0.8908</td>\n    </tr>\n    <tr>\n      <th>2</th>\n      <td>randomforest</td>\n      <td>0.8789</td>\n      <td>0.8292</td>\n    </tr>\n    <tr>\n      <th>3</th>\n      <td>multinomialnb</td>\n      <td>0.9100</td>\n      <td>0.8599</td>\n    </tr>\n    <tr>\n      <th>4</th>\n      <td>decisiontree</td>\n      <td>0.7864</td>\n      <td>0.7340</td>\n    </tr>\n    <tr>\n      <th>5</th>\n      <td>logisticregression</td>\n      <td>0.9301</td>\n      <td>0.8898</td>\n    </tr>\n  </tbody>\n</table>\n</div>",
      "text/plain": "                model  train accuracy  validation accuracy\n0                 mlp          1.0000               0.8764\n1           linearsvc          0.9877               0.8908\n2        randomforest          0.8789               0.8292\n3       multinomialnb          0.9100               0.8599\n4        decisiontree          0.7864               0.7340\n5  logisticregression          0.9301               0.8898"
     },
     "execution_count": 55,
     "metadata": {},
     "output_type": "execute_result"
    }
   ],
   "source": [
    "res = result_stemmer[['model', 'train_accuracy_score_mean', 'valid_accuracy_score_mean' ]]\n",
    "res.train_accuracy_score_mean = res.train_accuracy_score_mean.apply(lambda acc: round(acc, 4))\n",
    "res.valid_accuracy_score_mean = res.valid_accuracy_score_mean.apply(lambda acc: round(acc, 4))\n",
    "res.columns = ['model', 'train accuracy', 'validation accuracy']\n",
    "dfi.export(res, 'imgs/stemmer.png')\n",
    "res\n"
   ]
  },
  {
   "cell_type": "code",
   "execution_count": 56,
   "metadata": {},
   "outputs": [
    {
     "name": "stderr",
     "output_type": "stream",
     "text": [
      "/Users/gonthierlucas/opt/anaconda3/lib/python3.8/site-packages/pandas/core/generic.py:5168: SettingWithCopyWarning: \n",
      "A value is trying to be set on a copy of a slice from a DataFrame.\n",
      "Try using .loc[row_indexer,col_indexer] = value instead\n",
      "\n",
      "See the caveats in the documentation: https://pandas.pydata.org/pandas-docs/stable/user_guide/indexing.html#returning-a-view-versus-a-copy\n",
      "  self[name] = value\n"
     ]
    },
    {
     "data": {
      "text/html": "<div>\n<style scoped>\n    .dataframe tbody tr th:only-of-type {\n        vertical-align: middle;\n    }\n\n    .dataframe tbody tr th {\n        vertical-align: top;\n    }\n\n    .dataframe thead th {\n        text-align: right;\n    }\n</style>\n<table border=\"1\" class=\"dataframe\">\n  <thead>\n    <tr style=\"text-align: right;\">\n      <th></th>\n      <th>model</th>\n      <th>train accuracy</th>\n      <th>validation accuracy</th>\n    </tr>\n  </thead>\n  <tbody>\n    <tr>\n      <th>0</th>\n      <td>mlp</td>\n      <td>0.9999</td>\n      <td>0.8830</td>\n    </tr>\n    <tr>\n      <th>1</th>\n      <td>linearsvc</td>\n      <td>0.9921</td>\n      <td>0.8942</td>\n    </tr>\n    <tr>\n      <th>2</th>\n      <td>randomforest</td>\n      <td>0.8788</td>\n      <td>0.8298</td>\n    </tr>\n    <tr>\n      <th>3</th>\n      <td>multinomialnb</td>\n      <td>0.9177</td>\n      <td>0.8641</td>\n    </tr>\n    <tr>\n      <th>4</th>\n      <td>decisiontree</td>\n      <td>0.7783</td>\n      <td>0.7329</td>\n    </tr>\n    <tr>\n      <th>5</th>\n      <td>logisticregression</td>\n      <td>0.9348</td>\n      <td>0.8909</td>\n    </tr>\n  </tbody>\n</table>\n</div>",
      "text/plain": "                model  train accuracy  validation accuracy\n0                 mlp          0.9999               0.8830\n1           linearsvc          0.9921               0.8942\n2        randomforest          0.8788               0.8298\n3       multinomialnb          0.9177               0.8641\n4        decisiontree          0.7783               0.7329\n5  logisticregression          0.9348               0.8909"
     },
     "execution_count": 56,
     "metadata": {},
     "output_type": "execute_result"
    }
   ],
   "source": [
    "res = result_lemmatizer[['model', 'train_accuracy_score_mean', 'valid_accuracy_score_mean']]\n",
    "res.train_accuracy_score_mean = res.train_accuracy_score_mean.apply(lambda acc: round(acc, 4))\n",
    "res.valid_accuracy_score_mean = res.valid_accuracy_score_mean.apply(lambda acc: round(acc, 4))\n",
    "res.columns = ['model', 'train accuracy', 'validation accuracy']\n",
    "dfi.export(res, 'imgs/lemmatizer.png')\n",
    "res"
   ]
  }
 ],
 "metadata": {
  "kernelspec": {
   "display_name": "Python 3",
   "name": "python3"
  },
  "language_info": {
   "codemirror_mode": {
    "name": "ipython",
    "version": 3
   },
   "file_extension": ".py",
   "mimetype": "text/x-python",
   "name": "python",
   "nbconvert_exporter": "python",
   "pygments_lexer": "ipython3",
   "version": "3.8.5"
  },
  "orig_nbformat": 2
 },
 "nbformat": 4,
 "nbformat_minor": 2
}