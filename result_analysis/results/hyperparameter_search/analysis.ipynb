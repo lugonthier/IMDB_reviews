{
 "cells": [
  {
   "cell_type": "code",
   "execution_count": 1,
   "metadata": {},
   "outputs": [],
   "source": [
    "import pandas as pd\n",
    "import seaborn as sns"
   ]
  },
  {
   "cell_type": "code",
   "execution_count": 2,
   "metadata": {},
   "outputs": [],
   "source": [
    "lr = pd.read_csv('data_results/LogisticRegression.csv')\n",
    "dtc = pd.read_csv('data_results/DecisionTreeClassifier.csv')\n",
    "svc = pd.read_csv('data_results/LinearSVC.csv')\n",
    "mlp = pd.read_csv('data_results/MLPClassifier.csv')\n",
    "nb = pd.read_csv('data_results/MultinomialNB.csv')\n",
    "rf = pd.read_csv('data_results/RandomForestClassifier.csv')"
   ]
  },
  {
   "cell_type": "markdown",
   "metadata": {},
   "source": [
    "# Logistic Regression"
   ]
  },
  {
   "cell_type": "code",
   "execution_count": 3,
   "metadata": {},
   "outputs": [
    {
     "data": {
      "text/html": "<div>\n<style scoped>\n    .dataframe tbody tr th:only-of-type {\n        vertical-align: middle;\n    }\n\n    .dataframe tbody tr th {\n        vertical-align: top;\n    }\n\n    .dataframe thead th {\n        text-align: right;\n    }\n</style>\n<table border=\"1\" class=\"dataframe\">\n  <thead>\n    <tr style=\"text-align: right;\">\n      <th></th>\n      <th>rank_test_score</th>\n      <th>mean_test_score</th>\n      <th>std_test_score</th>\n      <th>param_LogisticRegression__C</th>\n      <th>param_LogisticRegression__solver</th>\n    </tr>\n  </thead>\n  <tbody>\n    <tr>\n      <th>9</th>\n      <td>1</td>\n      <td>0.890650</td>\n      <td>0.003566</td>\n      <td>1.0</td>\n      <td>lbfgs</td>\n    </tr>\n    <tr>\n      <th>10</th>\n      <td>1</td>\n      <td>0.890650</td>\n      <td>0.003566</td>\n      <td>1.0</td>\n      <td>sag</td>\n    </tr>\n    <tr>\n      <th>11</th>\n      <td>3</td>\n      <td>0.890625</td>\n      <td>0.003554</td>\n      <td>1.0</td>\n      <td>saga</td>\n    </tr>\n    <tr>\n      <th>12</th>\n      <td>3</td>\n      <td>0.890625</td>\n      <td>0.003264</td>\n      <td>10.0</td>\n      <td>lbfgs</td>\n    </tr>\n    <tr>\n      <th>13</th>\n      <td>3</td>\n      <td>0.890625</td>\n      <td>0.003264</td>\n      <td>10.0</td>\n      <td>sag</td>\n    </tr>\n  </tbody>\n</table>\n</div>",
      "text/plain": "    rank_test_score  mean_test_score  std_test_score  \\\n9                 1         0.890650        0.003566   \n10                1         0.890650        0.003566   \n11                3         0.890625        0.003554   \n12                3         0.890625        0.003264   \n13                3         0.890625        0.003264   \n\n    param_LogisticRegression__C param_LogisticRegression__solver  \n9                           1.0                            lbfgs  \n10                          1.0                              sag  \n11                          1.0                             saga  \n12                         10.0                            lbfgs  \n13                         10.0                              sag  "
     },
     "execution_count": 3,
     "metadata": {},
     "output_type": "execute_result"
    }
   ],
   "source": [
    "lr.nsmallest(5, 'rank_test_score')[['rank_test_score','mean_test_score',\t'std_test_score', 'param_LogisticRegression__C',\n",
    "       'param_LogisticRegression__solver']]"
   ]
  },
  {
   "cell_type": "markdown",
   "metadata": {},
   "source": [
    "The results are very similar for different combination of hyperparameters."
   ]
  },
  {
   "cell_type": "markdown",
   "metadata": {},
   "source": [
    "# Decision Tree"
   ]
  },
  {
   "cell_type": "code",
   "execution_count": 4,
   "metadata": {},
   "outputs": [
    {
     "data": {
      "text/html": "<div>\n<style scoped>\n    .dataframe tbody tr th:only-of-type {\n        vertical-align: middle;\n    }\n\n    .dataframe tbody tr th {\n        vertical-align: top;\n    }\n\n    .dataframe thead th {\n        text-align: right;\n    }\n</style>\n<table border=\"1\" class=\"dataframe\">\n  <thead>\n    <tr style=\"text-align: right;\">\n      <th></th>\n      <th>rank_test_score</th>\n      <th>mean_test_score</th>\n      <th>std_test_score</th>\n      <th>param_DecisionTreeClassifier__criterion</th>\n      <th>param_DecisionTreeClassifier__max_depth</th>\n      <th>param_DecisionTreeClassifier__max_features</th>\n      <th>param_DecisionTreeClassifier__splitter</th>\n    </tr>\n  </thead>\n  <tbody>\n    <tr>\n      <th>24</th>\n      <td>1</td>\n      <td>0.735450</td>\n      <td>0.004523</td>\n      <td>gini</td>\n      <td>14</td>\n      <td>NaN</td>\n      <td>best</td>\n    </tr>\n    <tr>\n      <th>18</th>\n      <td>2</td>\n      <td>0.734675</td>\n      <td>0.006327</td>\n      <td>gini</td>\n      <td>13</td>\n      <td>NaN</td>\n      <td>best</td>\n    </tr>\n    <tr>\n      <th>12</th>\n      <td>3</td>\n      <td>0.734300</td>\n      <td>0.005008</td>\n      <td>gini</td>\n      <td>12</td>\n      <td>NaN</td>\n      <td>best</td>\n    </tr>\n    <tr>\n      <th>54</th>\n      <td>4</td>\n      <td>0.733975</td>\n      <td>0.004233</td>\n      <td>entropy</td>\n      <td>14</td>\n      <td>NaN</td>\n      <td>best</td>\n    </tr>\n    <tr>\n      <th>48</th>\n      <td>5</td>\n      <td>0.732600</td>\n      <td>0.005485</td>\n      <td>entropy</td>\n      <td>13</td>\n      <td>NaN</td>\n      <td>best</td>\n    </tr>\n  </tbody>\n</table>\n</div>",
      "text/plain": "    rank_test_score  mean_test_score  std_test_score  \\\n24                1         0.735450        0.004523   \n18                2         0.734675        0.006327   \n12                3         0.734300        0.005008   \n54                4         0.733975        0.004233   \n48                5         0.732600        0.005485   \n\n   param_DecisionTreeClassifier__criterion  \\\n24                                    gini   \n18                                    gini   \n12                                    gini   \n54                                 entropy   \n48                                 entropy   \n\n    param_DecisionTreeClassifier__max_depth  \\\n24                                       14   \n18                                       13   \n12                                       12   \n54                                       14   \n48                                       13   \n\n   param_DecisionTreeClassifier__max_features  \\\n24                                        NaN   \n18                                        NaN   \n12                                        NaN   \n54                                        NaN   \n48                                        NaN   \n\n   param_DecisionTreeClassifier__splitter  \n24                                   best  \n18                                   best  \n12                                   best  \n54                                   best  \n48                                   best  "
     },
     "execution_count": 4,
     "metadata": {},
     "output_type": "execute_result"
    }
   ],
   "source": [
    "dtc.nsmallest(5, 'rank_test_score')[['rank_test_score','mean_test_score',\t'std_test_score', 'param_DecisionTreeClassifier__criterion',\n",
    "       'param_DecisionTreeClassifier__max_depth',\n",
    "       'param_DecisionTreeClassifier__max_features',\n",
    "       'param_DecisionTreeClassifier__splitter']]"
   ]
  },
  {
   "cell_type": "markdown",
   "metadata": {},
   "source": [
    "The results are very similar for different combination of hyperparameters."
   ]
  },
  {
   "cell_type": "markdown",
   "metadata": {},
   "source": [
    "# Linear SVM"
   ]
  },
  {
   "cell_type": "code",
   "execution_count": 5,
   "metadata": {},
   "outputs": [
    {
     "data": {
      "text/html": "<div>\n<style scoped>\n    .dataframe tbody tr th:only-of-type {\n        vertical-align: middle;\n    }\n\n    .dataframe tbody tr th {\n        vertical-align: top;\n    }\n\n    .dataframe thead th {\n        text-align: right;\n    }\n</style>\n<table border=\"1\" class=\"dataframe\">\n  <thead>\n    <tr style=\"text-align: right;\">\n      <th></th>\n      <th>rank_test_score</th>\n      <th>mean_test_score</th>\n      <th>std_test_score</th>\n      <th>param_LinearSVC__C</th>\n      <th>param_LinearSVC__loss</th>\n    </tr>\n  </thead>\n  <tbody>\n    <tr>\n      <th>6</th>\n      <td>1</td>\n      <td>0.889700</td>\n      <td>0.001418</td>\n      <td>1.0</td>\n      <td>hinge</td>\n    </tr>\n    <tr>\n      <th>5</th>\n      <td>2</td>\n      <td>0.889250</td>\n      <td>0.002835</td>\n      <td>0.1</td>\n      <td>squared_hinge</td>\n    </tr>\n    <tr>\n      <th>7</th>\n      <td>3</td>\n      <td>0.883900</td>\n      <td>0.002632</td>\n      <td>1.0</td>\n      <td>squared_hinge</td>\n    </tr>\n    <tr>\n      <th>4</th>\n      <td>4</td>\n      <td>0.880350</td>\n      <td>0.002568</td>\n      <td>0.1</td>\n      <td>hinge</td>\n    </tr>\n    <tr>\n      <th>8</th>\n      <td>5</td>\n      <td>0.869675</td>\n      <td>0.003831</td>\n      <td>10.0</td>\n      <td>hinge</td>\n    </tr>\n  </tbody>\n</table>\n</div>",
      "text/plain": "   rank_test_score  mean_test_score  std_test_score  param_LinearSVC__C  \\\n6                1         0.889700        0.001418                 1.0   \n5                2         0.889250        0.002835                 0.1   \n7                3         0.883900        0.002632                 1.0   \n4                4         0.880350        0.002568                 0.1   \n8                5         0.869675        0.003831                10.0   \n\n  param_LinearSVC__loss  \n6                 hinge  \n5         squared_hinge  \n7         squared_hinge  \n4                 hinge  \n8                 hinge  "
     },
     "execution_count": 5,
     "metadata": {},
     "output_type": "execute_result"
    }
   ],
   "source": [
    "svc.nsmallest(5, 'rank_test_score')[['rank_test_score','mean_test_score',\t'std_test_score', 'param_LinearSVC__C', 'param_LinearSVC__loss']]"
   ]
  },
  {
   "cell_type": "markdown",
   "metadata": {},
   "source": [
    "# Multi Layer Perceptron"
   ]
  },
  {
   "cell_type": "code",
   "execution_count": 6,
   "metadata": {},
   "outputs": [
    {
     "data": {
      "text/html": "<div>\n<style scoped>\n    .dataframe tbody tr th:only-of-type {\n        vertical-align: middle;\n    }\n\n    .dataframe tbody tr th {\n        vertical-align: top;\n    }\n\n    .dataframe thead th {\n        text-align: right;\n    }\n</style>\n<table border=\"1\" class=\"dataframe\">\n  <thead>\n    <tr style=\"text-align: right;\">\n      <th></th>\n      <th>rank_test_score</th>\n      <th>mean_test_score</th>\n      <th>std_test_score</th>\n      <th>param_MLPClassifier__alpha</th>\n      <th>param_MLPClassifier__hidden_layer_sizes</th>\n      <th>param_MLPClassifier__learning_rate</th>\n      <th>param_MLPClassifier__solver</th>\n    </tr>\n  </thead>\n  <tbody>\n    <tr>\n      <th>22</th>\n      <td>1</td>\n      <td>0.871775</td>\n      <td>0.002876</td>\n      <td>0.0010</td>\n      <td>(50, 100, 200, 100, 50)</td>\n      <td>adaptive</td>\n      <td>lbfgs</td>\n    </tr>\n    <tr>\n      <th>10</th>\n      <td>2</td>\n      <td>0.870175</td>\n      <td>0.006997</td>\n      <td>0.0001</td>\n      <td>(50, 100, 200, 100, 50)</td>\n      <td>adaptive</td>\n      <td>lbfgs</td>\n    </tr>\n    <tr>\n      <th>8</th>\n      <td>3</td>\n      <td>0.869800</td>\n      <td>0.006463</td>\n      <td>0.0001</td>\n      <td>(50, 100, 200, 100, 50)</td>\n      <td>constant</td>\n      <td>lbfgs</td>\n    </tr>\n    <tr>\n      <th>25</th>\n      <td>4</td>\n      <td>0.868025</td>\n      <td>0.003041</td>\n      <td>0.0100</td>\n      <td>(50,)</td>\n      <td>constant</td>\n      <td>adam</td>\n    </tr>\n    <tr>\n      <th>27</th>\n      <td>5</td>\n      <td>0.867750</td>\n      <td>0.001773</td>\n      <td>0.0100</td>\n      <td>(50,)</td>\n      <td>adaptive</td>\n      <td>adam</td>\n    </tr>\n  </tbody>\n</table>\n</div>",
      "text/plain": "    rank_test_score  mean_test_score  std_test_score  \\\n22                1         0.871775        0.002876   \n10                2         0.870175        0.006997   \n8                 3         0.869800        0.006463   \n25                4         0.868025        0.003041   \n27                5         0.867750        0.001773   \n\n    param_MLPClassifier__alpha param_MLPClassifier__hidden_layer_sizes  \\\n22                      0.0010                 (50, 100, 200, 100, 50)   \n10                      0.0001                 (50, 100, 200, 100, 50)   \n8                       0.0001                 (50, 100, 200, 100, 50)   \n25                      0.0100                                   (50,)   \n27                      0.0100                                   (50,)   \n\n   param_MLPClassifier__learning_rate param_MLPClassifier__solver  \n22                           adaptive                       lbfgs  \n10                           adaptive                       lbfgs  \n8                            constant                       lbfgs  \n25                           constant                        adam  \n27                           adaptive                        adam  "
     },
     "execution_count": 6,
     "metadata": {},
     "output_type": "execute_result"
    }
   ],
   "source": [
    "mlp.nsmallest(5, 'rank_test_score')[['rank_test_score','mean_test_score',\t'std_test_score', 'param_MLPClassifier__alpha',\n",
    "       'param_MLPClassifier__hidden_layer_sizes',\n",
    "       'param_MLPClassifier__learning_rate',\n",
    "       'param_MLPClassifier__solver']]"
   ]
  },
  {
   "cell_type": "markdown",
   "metadata": {},
   "source": [
    "# Multinomial Naive Bayes"
   ]
  },
  {
   "cell_type": "code",
   "execution_count": 7,
   "metadata": {},
   "outputs": [
    {
     "data": {
      "text/html": "<div>\n<style scoped>\n    .dataframe tbody tr th:only-of-type {\n        vertical-align: middle;\n    }\n\n    .dataframe tbody tr th {\n        vertical-align: top;\n    }\n\n    .dataframe thead th {\n        text-align: right;\n    }\n</style>\n<table border=\"1\" class=\"dataframe\">\n  <thead>\n    <tr style=\"text-align: right;\">\n      <th></th>\n      <th>rank_test_score</th>\n      <th>mean_test_score</th>\n      <th>std_test_score</th>\n      <th>param_MultinomialNB__alpha</th>\n      <th>param_MultinomialNB__fit_prior</th>\n    </tr>\n  </thead>\n  <tbody>\n    <tr>\n      <th>5</th>\n      <td>1</td>\n      <td>0.860425</td>\n      <td>0.003548</td>\n      <td>0.75</td>\n      <td>False</td>\n    </tr>\n    <tr>\n      <th>3</th>\n      <td>2</td>\n      <td>0.860275</td>\n      <td>0.003214</td>\n      <td>0.50</td>\n      <td>False</td>\n    </tr>\n    <tr>\n      <th>6</th>\n      <td>2</td>\n      <td>0.860275</td>\n      <td>0.003584</td>\n      <td>1.00</td>\n      <td>True</td>\n    </tr>\n    <tr>\n      <th>7</th>\n      <td>4</td>\n      <td>0.860175</td>\n      <td>0.003765</td>\n      <td>1.00</td>\n      <td>False</td>\n    </tr>\n    <tr>\n      <th>2</th>\n      <td>5</td>\n      <td>0.860150</td>\n      <td>0.003301</td>\n      <td>0.50</td>\n      <td>True</td>\n    </tr>\n  </tbody>\n</table>\n</div>",
      "text/plain": "   rank_test_score  mean_test_score  std_test_score  \\\n5                1         0.860425        0.003548   \n3                2         0.860275        0.003214   \n6                2         0.860275        0.003584   \n7                4         0.860175        0.003765   \n2                5         0.860150        0.003301   \n\n   param_MultinomialNB__alpha  param_MultinomialNB__fit_prior  \n5                        0.75                           False  \n3                        0.50                           False  \n6                        1.00                            True  \n7                        1.00                           False  \n2                        0.50                            True  "
     },
     "execution_count": 7,
     "metadata": {},
     "output_type": "execute_result"
    }
   ],
   "source": [
    "nb.nsmallest(5, 'rank_test_score')[['rank_test_score','mean_test_score',\t'std_test_score', 'param_MultinomialNB__alpha',\n",
    "       'param_MultinomialNB__fit_prior']]"
   ]
  },
  {
   "cell_type": "markdown",
   "metadata": {},
   "source": [
    "The results are very similar for different combination of hyperparameters."
   ]
  },
  {
   "cell_type": "markdown",
   "metadata": {},
   "source": [
    "# Random Forest"
   ]
  },
  {
   "cell_type": "code",
   "execution_count": 8,
   "metadata": {},
   "outputs": [
    {
     "data": {
      "text/html": "<div>\n<style scoped>\n    .dataframe tbody tr th:only-of-type {\n        vertical-align: middle;\n    }\n\n    .dataframe tbody tr th {\n        vertical-align: top;\n    }\n\n    .dataframe thead th {\n        text-align: right;\n    }\n</style>\n<table border=\"1\" class=\"dataframe\">\n  <thead>\n    <tr style=\"text-align: right;\">\n      <th></th>\n      <th>rank_test_score</th>\n      <th>mean_test_score</th>\n      <th>std_test_score</th>\n      <th>param_RandomForestClassifier__criterion</th>\n      <th>param_RandomForestClassifier__max_depth</th>\n      <th>param_RandomForestClassifier__n_estimators</th>\n      <th>param_RandomForestClassifier__max_features</th>\n    </tr>\n  </thead>\n  <tbody>\n    <tr>\n      <th>31</th>\n      <td>1</td>\n      <td>0.845075</td>\n      <td>0.003410</td>\n      <td>gini</td>\n      <td>14</td>\n      <td>350</td>\n      <td>sqrt</td>\n    </tr>\n    <tr>\n      <th>51</th>\n      <td>2</td>\n      <td>0.844475</td>\n      <td>0.003445</td>\n      <td>entropy</td>\n      <td>13</td>\n      <td>350</td>\n      <td>auto</td>\n    </tr>\n    <tr>\n      <th>66</th>\n      <td>3</td>\n      <td>0.843975</td>\n      <td>0.005013</td>\n      <td>entropy</td>\n      <td>14</td>\n      <td>250</td>\n      <td>sqrt</td>\n    </tr>\n    <tr>\n      <th>55</th>\n      <td>4</td>\n      <td>0.843775</td>\n      <td>0.004569</td>\n      <td>entropy</td>\n      <td>13</td>\n      <td>350</td>\n      <td>sqrt</td>\n    </tr>\n    <tr>\n      <th>50</th>\n      <td>5</td>\n      <td>0.843775</td>\n      <td>0.002484</td>\n      <td>entropy</td>\n      <td>13</td>\n      <td>250</td>\n      <td>auto</td>\n    </tr>\n  </tbody>\n</table>\n</div>",
      "text/plain": "    rank_test_score  mean_test_score  std_test_score  \\\n31                1         0.845075        0.003410   \n51                2         0.844475        0.003445   \n66                3         0.843975        0.005013   \n55                4         0.843775        0.004569   \n50                5         0.843775        0.002484   \n\n   param_RandomForestClassifier__criterion  \\\n31                                    gini   \n51                                 entropy   \n66                                 entropy   \n55                                 entropy   \n50                                 entropy   \n\n    param_RandomForestClassifier__max_depth  \\\n31                                       14   \n51                                       13   \n66                                       14   \n55                                       13   \n50                                       13   \n\n    param_RandomForestClassifier__n_estimators  \\\n31                                         350   \n51                                         350   \n66                                         250   \n55                                         350   \n50                                         250   \n\n   param_RandomForestClassifier__max_features  \n31                                       sqrt  \n51                                       auto  \n66                                       sqrt  \n55                                       sqrt  \n50                                       auto  "
     },
     "execution_count": 8,
     "metadata": {},
     "output_type": "execute_result"
    }
   ],
   "source": [
    "rf.nsmallest(5, 'rank_test_score')[['rank_test_score','mean_test_score', 'std_test_score', 'param_RandomForestClassifier__criterion', 'param_RandomForestClassifier__max_depth', 'param_RandomForestClassifier__n_estimators', 'param_RandomForestClassifier__max_features']]"
   ]
  },
  {
   "cell_type": "markdown",
   "metadata": {},
   "source": [
    "The results are very similar for different combination of hyperparameters."
   ]
  }
 ],
 "metadata": {
  "kernelspec": {
   "display_name": "Python 3",
   "language": "python",
   "name": "python3"
  },
  "language_info": {
   "codemirror_mode": {
    "name": "ipython",
    "version": 3
   },
   "file_extension": ".py",
   "mimetype": "text/x-python",
   "name": "python",
   "nbconvert_exporter": "python",
   "pygments_lexer": "ipython3",
   "version": "3.6.13"
  },
  "orig_nbformat": 2
 },
 "nbformat": 4,
 "nbformat_minor": 2
}