{
 "cells": [
  {
   "cell_type": "code",
   "execution_count": 123,
   "metadata": {},
   "outputs": [],
   "source": [
    "import pandas as pd\n",
    "import re"
   ]
  },
  {
   "cell_type": "code",
   "execution_count": 124,
   "metadata": {},
   "outputs": [],
   "source": [
    "df_old = pd.read_csv('data_results/old_cross_val_results.csv')\n",
    "df_new = pd.read_csv('data_results/post_tuning_cross_val_results.csv')"
   ]
  },
  {
   "cell_type": "code",
   "execution_count": 125,
   "metadata": {},
   "outputs": [],
   "source": [
    "metrics = ['train_accuracy_score_mean', 'valid_accuracy_score_mean', 'train_accuracy_score_std', 'valid_accuracy_score_std' ]"
   ]
  },
  {
   "cell_type": "code",
   "execution_count": 126,
   "metadata": {},
   "outputs": [],
   "source": [
    "df_old = df_old[['model'] + metrics]\n",
    "df_old.model = df_old.model.apply(lambda text: text.lower().split('(')[0].replace('classifier',''))\n",
    "\n",
    "df_new = df_new[['model'] + metrics]\n",
    "df_new.model = df_new.model.apply(lambda text: text.lower().split('(')[0].replace('classifier',''))\n"
   ]
  },
  {
   "cell_type": "code",
   "execution_count": 128,
   "metadata": {},
   "outputs": [],
   "source": [
    "df_new.columns = ['model', 'train accuracy post tuning', 'valid accuracy post tuning', 'train std post tuning', 'valid std post tuning']\n",
    "df_new = df_new.sort_values('model')\n"
   ]
  },
  {
   "cell_type": "code",
   "execution_count": 129,
   "metadata": {},
   "outputs": [],
   "source": [
    "df_old.columns = ['model', 'train accuracy before tuning', 'valid accuracy before tuning', 'train std before tuning', 'valid std before tuning']\n",
    "df_old = df_old.sort_values('model')\n"
   ]
  },
  {
   "cell_type": "code",
   "execution_count": 130,
   "metadata": {},
   "outputs": [],
   "source": [
    "df_acc = pd.DataFrame()\n",
    "df_acc['model'] = df_new['model'].to_numpy()\n",
    "df_acc['train accuracy before tuning'] = df_old['train accuracy before tuning'].apply(lambda acc: round(acc,4)).to_numpy()\n",
    "df_acc['train accuracy post tuning'] = df_new['train accuracy post tuning'].apply(lambda acc: round(acc,4)).to_numpy()\n",
    "df_acc['train trend'] = [u\"\\u2197\", u\"\\u2198\", u\"\\u2198\", u\"\\u2198\", u\"\\u2197\",u\"\\u2197\"]\n",
    "\n",
    "df_acc['valid accuracy before tuning'] = df_old['valid accuracy before tuning'].apply(lambda acc: round(acc,4)).to_numpy()\n",
    "df_acc['valid accuracy post tuning'] = df_new['valid accuracy post tuning'].apply(lambda acc: round(acc,4)).to_numpy()\n",
    "df_acc['valid trend'] = [u\"\\u2197\", u\"\\u2197\", u\"\\u2197\", u\"\\u2198\", u\"\\u2197\", u\"\\u2197\"]\n"
   ]
  },
  {
   "cell_type": "code",
   "execution_count": 131,
   "metadata": {},
   "outputs": [
    {
     "data": {
      "text/plain": "['↗', '↘', '→']"
     },
     "execution_count": 131,
     "metadata": {},
     "output_type": "execute_result"
    }
   ],
   "source": [
    "[u\"\\u2197\",u\"\\u2198\",u\"\\u2192\"]"
   ]
  },
  {
   "cell_type": "code",
   "execution_count": 132,
   "metadata": {},
   "outputs": [
    {
     "data": {
      "text/plain": "array([ 0.0018,  0.0033,  0.0006, -0.0025,  0.0005,  0.0136])"
     },
     "execution_count": 132,
     "metadata": {},
     "output_type": "execute_result"
    }
   ],
   "source": [
    "df_acc['valid accuracy post tuning'].to_numpy() - df_acc['valid accuracy before tuning'].to_numpy()"
   ]
  },
  {
   "cell_type": "code",
   "execution_count": 133,
   "metadata": {},
   "outputs": [
    {
     "data": {
      "text/html": "<div>\n<style scoped>\n    .dataframe tbody tr th:only-of-type {\n        vertical-align: middle;\n    }\n\n    .dataframe tbody tr th {\n        vertical-align: top;\n    }\n\n    .dataframe thead th {\n        text-align: right;\n    }\n</style>\n<table border=\"1\" class=\"dataframe\">\n  <thead>\n    <tr style=\"text-align: right;\">\n      <th></th>\n      <th>model</th>\n      <th>train accuracy before tuning</th>\n      <th>train accuracy post tuning</th>\n      <th>train trend</th>\n      <th>valid accuracy before tuning</th>\n      <th>valid accuracy post tuning</th>\n      <th>valid trend</th>\n    </tr>\n  </thead>\n  <tbody>\n    <tr>\n      <th>0</th>\n      <td>decisiontree</td>\n      <td>0.7864</td>\n      <td>0.8087</td>\n      <td>↗</td>\n      <td>0.7340</td>\n      <td>0.7358</td>\n      <td>↗</td>\n    </tr>\n    <tr>\n      <th>1</th>\n      <td>linearsvc</td>\n      <td>0.9877</td>\n      <td>0.9531</td>\n      <td>↘</td>\n      <td>0.8908</td>\n      <td>0.8941</td>\n      <td>↗</td>\n    </tr>\n    <tr>\n      <th>2</th>\n      <td>logisticregression</td>\n      <td>0.9301</td>\n      <td>0.9275</td>\n      <td>↘</td>\n      <td>0.8898</td>\n      <td>0.8904</td>\n      <td>↗</td>\n    </tr>\n    <tr>\n      <th>3</th>\n      <td>mlp</td>\n      <td>1.0000</td>\n      <td>0.8910</td>\n      <td>↘</td>\n      <td>0.8764</td>\n      <td>0.8739</td>\n      <td>↘</td>\n    </tr>\n    <tr>\n      <th>4</th>\n      <td>multinomialnb</td>\n      <td>0.9100</td>\n      <td>0.9157</td>\n      <td>↗</td>\n      <td>0.8599</td>\n      <td>0.8604</td>\n      <td>↗</td>\n    </tr>\n    <tr>\n      <th>5</th>\n      <td>randomforest</td>\n      <td>0.8789</td>\n      <td>0.9037</td>\n      <td>↗</td>\n      <td>0.8292</td>\n      <td>0.8428</td>\n      <td>↗</td>\n    </tr>\n  </tbody>\n</table>\n</div>",
      "text/plain": "                model  train accuracy before tuning  \\\n0        decisiontree                        0.7864   \n1           linearsvc                        0.9877   \n2  logisticregression                        0.9301   \n3                 mlp                        1.0000   \n4       multinomialnb                        0.9100   \n5        randomforest                        0.8789   \n\n   train accuracy post tuning train trend  valid accuracy before tuning  \\\n0                      0.8087           ↗                        0.7340   \n1                      0.9531           ↘                        0.8908   \n2                      0.9275           ↘                        0.8898   \n3                      0.8910           ↘                        0.8764   \n4                      0.9157           ↗                        0.8599   \n5                      0.9037           ↗                        0.8292   \n\n   valid accuracy post tuning valid trend  \n0                      0.7358           ↗  \n1                      0.8941           ↗  \n2                      0.8904           ↗  \n3                      0.8739           ↘  \n4                      0.8604           ↗  \n5                      0.8428           ↗  "
     },
     "execution_count": 133,
     "metadata": {},
     "output_type": "execute_result"
    }
   ],
   "source": [
    "df_acc"
   ]
  },
  {
   "cell_type": "markdown",
   "metadata": {},
   "source": [
    "- The first thing that can be noticed is that all the models have seen their validation accuracy increase except for the multilayer Perceptron. However, the increases remain relatively small, from 0.06% to 1.36%.\n",
    "- The validation accuracy went from 87.64% to 87.39%, a loss of 0.25% of validation accuracy. However, the training accuracy went from 100% to 89%. We were thus able to keep a good average validation accuracy while suppressing the overfitting.\n",
    "- The linear SVM and Logistic regression models, have slightly lost in average training accuracy but have still increased in average validation accuracy.\n",
    "- The decision tree, multinomial Naive Bayes and random forest models have seen their average training and validation accuracy increase.\n"
   ]
  },
  {
   "cell_type": "code",
   "execution_count": 134,
   "metadata": {},
   "outputs": [],
   "source": [
    "df_std = pd.DataFrame()\n",
    "df_std['model'] = df_new['model'].to_numpy()\n",
    "df_std['train std before tuning'] = df_old['train std before tuning'].apply(lambda acc: round(acc,5)).to_numpy()\n",
    "df_std['train std post tuning'] = df_new['train std post tuning'].apply(lambda acc: round(acc,5)).to_numpy()\n",
    "df_std['train trend'] = [u\"\\u2197\", u\"\\u2197\", u\"\\u2197\", u\"\\u2197\", u\"\\u2198\",u\"\\u2198\"]\n",
    "\n",
    "df_std['valid std before tuning'] = df_old['valid std before tuning'].apply(lambda acc: round(acc,5)).to_numpy()\n",
    "df_std['valid std post tuning'] = df_new['valid std post tuning'].apply(lambda acc: round(acc,5)).to_numpy()\n",
    "df_std['valid trend'] = [u\"\\u2197\", u\"\\u2198\", u\"\\u2198\", u\"\\u2198\", u\"\\u2197\", u\"\\u2197\"]\n"
   ]
  },
  {
   "cell_type": "code",
   "execution_count": 135,
   "metadata": {},
   "outputs": [
    {
     "data": {
      "text/html": "<div>\n<style scoped>\n    .dataframe tbody tr th:only-of-type {\n        vertical-align: middle;\n    }\n\n    .dataframe tbody tr th {\n        vertical-align: top;\n    }\n\n    .dataframe thead th {\n        text-align: right;\n    }\n</style>\n<table border=\"1\" class=\"dataframe\">\n  <thead>\n    <tr style=\"text-align: right;\">\n      <th></th>\n      <th>model</th>\n      <th>train std before tuning</th>\n      <th>train std post tuning</th>\n      <th>train trend</th>\n      <th>valid std before tuning</th>\n      <th>valid std post tuning</th>\n      <th>valid trend</th>\n    </tr>\n  </thead>\n  <tbody>\n    <tr>\n      <th>0</th>\n      <td>decisiontree</td>\n      <td>0.00193</td>\n      <td>0.00246</td>\n      <td>↗</td>\n      <td>0.00411</td>\n      <td>0.00486</td>\n      <td>↗</td>\n    </tr>\n    <tr>\n      <th>1</th>\n      <td>linearsvc</td>\n      <td>0.00037</td>\n      <td>0.00047</td>\n      <td>↗</td>\n      <td>0.00256</td>\n      <td>0.00195</td>\n      <td>↘</td>\n    </tr>\n    <tr>\n      <th>2</th>\n      <td>logisticregression</td>\n      <td>0.00060</td>\n      <td>0.00065</td>\n      <td>↗</td>\n      <td>0.00252</td>\n      <td>0.00234</td>\n      <td>↘</td>\n    </tr>\n    <tr>\n      <th>3</th>\n      <td>mlp</td>\n      <td>0.00001</td>\n      <td>0.00479</td>\n      <td>↗</td>\n      <td>0.00423</td>\n      <td>0.00352</td>\n      <td>↘</td>\n    </tr>\n    <tr>\n      <th>4</th>\n      <td>multinomialnb</td>\n      <td>0.00101</td>\n      <td>0.00092</td>\n      <td>↘</td>\n      <td>0.00464</td>\n      <td>0.00526</td>\n      <td>↗</td>\n    </tr>\n    <tr>\n      <th>5</th>\n      <td>randomforest</td>\n      <td>0.00354</td>\n      <td>0.00147</td>\n      <td>↘</td>\n      <td>0.00460</td>\n      <td>0.00718</td>\n      <td>↗</td>\n    </tr>\n  </tbody>\n</table>\n</div>",
      "text/plain": "                model  train std before tuning  train std post tuning  \\\n0        decisiontree                  0.00193                0.00246   \n1           linearsvc                  0.00037                0.00047   \n2  logisticregression                  0.00060                0.00065   \n3                 mlp                  0.00001                0.00479   \n4       multinomialnb                  0.00101                0.00092   \n5        randomforest                  0.00354                0.00147   \n\n  train trend  valid std before tuning  valid std post tuning valid trend  \n0           ↗                  0.00411                0.00486           ↗  \n1           ↗                  0.00256                0.00195           ↘  \n2           ↗                  0.00252                0.00234           ↘  \n3           ↗                  0.00423                0.00352           ↘  \n4           ↘                  0.00464                0.00526           ↗  \n5           ↘                  0.00460                0.00718           ↗  "
     },
     "execution_count": 135,
     "metadata": {},
     "output_type": "execute_result"
    }
   ],
   "source": [
    "df_std"
   ]
  },
  {
   "cell_type": "code",
   "execution_count": null,
   "metadata": {},
   "outputs": [],
   "source": []
  }
 ],
 "metadata": {
  "kernelspec": {
   "display_name": "Python 3",
   "language": "python",
   "name": "python3"
  },
  "language_info": {
   "codemirror_mode": {
    "name": "ipython",
    "version": 3
   },
   "file_extension": ".py",
   "mimetype": "text/x-python",
   "name": "python",
   "nbconvert_exporter": "python",
   "pygments_lexer": "ipython3",
   "version": "3.8.5"
  },
  "orig_nbformat": 2
 },
 "nbformat": 4,
 "nbformat_minor": 2
}